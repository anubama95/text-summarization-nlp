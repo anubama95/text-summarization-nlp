{
 "cells": [
  {
   "cell_type": "markdown",
   "metadata": {},
   "source": [
    "### Text Summarizer "
   ]
  },
  {
   "cell_type": "code",
   "execution_count": 1,
   "metadata": {},
   "outputs": [],
   "source": [
    "# importing libraries\n",
    "import pandas as pd\n",
    "import numpy as np"
   ]
  },
  {
   "cell_type": "markdown",
   "metadata": {},
   "source": [
    "### Loading the data"
   ]
  },
  {
   "cell_type": "code",
   "execution_count": 2,
   "metadata": {},
   "outputs": [],
   "source": [
    "with open('aa.txt', 'r') as file:\n",
    "    data = file.read().replace('\\n', '')"
   ]
  },
  {
   "cell_type": "markdown",
   "metadata": {},
   "source": [
    "### Data Cleaning"
   ]
  },
  {
   "cell_type": "code",
   "execution_count": 3,
   "metadata": {},
   "outputs": [],
   "source": [
    "import re\n",
    "import nltk\n",
    "from nltk.corpus import stopwords"
   ]
  },
  {
   "cell_type": "code",
   "execution_count": 4,
   "metadata": {},
   "outputs": [],
   "source": [
    "# importing the nltk libraries\n",
    "from nltk.corpus import stopwords\n",
    "from nltk.stem import PorterStemmer\n",
    "from nltk.tokenize import word_tokenize, sent_tokenize"
   ]
  },
  {
   "cell_type": "markdown",
   "metadata": {},
   "source": [
    "### Creating the Frequency Table"
   ]
  },
  {
   "cell_type": "code",
   "execution_count": 5,
   "metadata": {},
   "outputs": [],
   "source": [
    "# preprocessing the input data\n",
    "# tokeinzing the input\n",
    "# removal of stop_words and then stemming words\n",
    "# creating the dictionary for the word frequency table\n",
    "# using words that are not part of stopwords array\n",
    "\n",
    "def frequency_table(data):\n",
    "    stop_words = set(stopwords.words('english'))\n",
    "    words = word_tokenize(data)\n",
    "    ps = PorterStemmer()\n",
    "    '''Stemmer: an algorithm to bring words to its root word\n",
    "    args:\n",
    "            text(str): original text\n",
    "       yeilds:\n",
    "            dict: the next token'''\n",
    "    freqtable = {}\n",
    "    \n",
    "    for word in words:\n",
    "        word = ps.stem(word)\n",
    "        if word in stop_words:\n",
    "            continue\n",
    "        if word in freqtable:\n",
    "            freqtable[word] += 1\n",
    "        else:\n",
    "            freqtable[word] = 1\n",
    "    return freqtable"
   ]
  },
  {
   "cell_type": "markdown",
   "metadata": {},
   "source": [
    "### Scoring each sentence"
   ]
  },
  {
   "cell_type": "code",
   "execution_count": 6,
   "metadata": {},
   "outputs": [],
   "source": [
    "# assigning score to each sentence\n",
    "# basic algorithm\n",
    "# adding freq of every non stop_words in a sentence\n",
    "def sentence_score(sents, freqtable):\n",
    "    sent_value = {}\n",
    "    '''long sentences will have an advantage over short sentences.\n",
    "    Dividing every sentence score by the number of words in the sentence.'''\n",
    "    for sent in sents:\n",
    "        word_count = len(word_tokenize(sent))\n",
    "        for value in freqtable:\n",
    "            if value in sent.lower():\n",
    "                if sent[:10] in sent_value:\n",
    "                    sent_value[sent[:10]] += freqtable[value]\n",
    "                else:\n",
    "                    sent_value[sent[:10]] = freqtable[value]\n",
    "                \n",
    "        sent_value[sent[:10]] = sent_value[sent[:10]] // word_count\n",
    "    return sent_value\n"
   ]
  },
  {
   "cell_type": "markdown",
   "metadata": {},
   "source": [
    "### Creating the average value of the summary"
   ]
  },
  {
   "cell_type": "code",
   "execution_count": 7,
   "metadata": {},
   "outputs": [],
   "source": [
    "# creating Average value of a sentence from original summary_text\n",
    "# average itself is the best threshold\n",
    "\n",
    "def averages(sent_value):\n",
    "    sumvalue = 0\n",
    "    for ele in sent_value:\n",
    "        sumvalue += sent_value[ele]\n",
    "        \n",
    "    average = int(sumvalue / len(sent_value))\n",
    "    \n",
    "    return average"
   ]
  },
  {
   "cell_type": "markdown",
   "metadata": {},
   "source": [
    "### Generating the summary"
   ]
  },
  {
   "cell_type": "code",
   "execution_count": 8,
   "metadata": {},
   "outputs": [],
   "source": [
    "# generating the summary\n",
    "\n",
    "def summary_generate(sents, sent_value, threshold):\n",
    "    sent_count = 0\n",
    "    summary = ''\n",
    "    \n",
    "    for sent in sents:\n",
    "        if sent[:10] in sent_value and sent_value[sent[:10]] > (threshold):\n",
    "            summary += ' ' + sent\n",
    "            sent_count += 1\n",
    "            \n",
    "    return summary"
   ]
  },
  {
   "cell_type": "code",
   "execution_count": 9,
   "metadata": {},
   "outputs": [
    {
     "name": "stdout",
     "output_type": "stream",
     "text": [
      "Original Text: \n",
      "\t Britain boosted by Holmes doubleAthletics fans endured a year of mixed emotions in 2004 as stunning victories went hand-in-hand with disappointing defeats and more drugs scandals.Kelly Holmes finally fulfilled her potential by storming to double gold on the track at the Olympic Games. Holmes helped erase the gloom hanging over Team GB after their biggest medal hope, Paula Radcliffe, dropped out of the marathon and then the 10,000m. Britain's men's 4x100m relay team also did their bit by taking a shock gold. Holmes had started the year in disappointing style, falling over in the final of 1500m at the World Indoor Championships where she was favourite. Her Olympic build-up was clouded by self doubt but that proved unfounded as she overhauled rival Maria Mutola to win the 800m - her first global title. Just five days later, the 34-year-old made it double gold in the 1500m. It was the first time in 84 years a Briton has achieved the Olympic middle-distance double. While Holmes left Athens as the star of Team GB, it was Radcliffe who carried expectations before the August Games.The 30-year-old marathon world record holder went into the Athens event as favourite but an exhausted Radcliffe dropped out after 23 miles in tears. Her decision to enter the 10,000m five days later also backfired as she again pulled out with eight laps remaining.But Radcliffe helped put her Olympic trauma behind her with a thrilling win in November's New York Marathon. The 4x100m team grabbed some last-gasp glory for the British men's Olympic squad after a poor start to the Games.It seemed as though Athens would be the first Games where the men would fail to win a medal with Michael East the only individual track finalist in the 1500m. But Darren Campell, Jason Gardener, Marlon Devonish and Mark Lewis-Francis made amends in the sprint relay. The quartet held off favourites the USA to win Britain's first relay medal since 1912 in 38.07 seconds. Gardener added the Olympic relay crown to his World Indoor title over 60m and, just like Holmes, finally lived up to his promise in 2004. Kelly Sotherton completed Team GB's athletics medal haul in Athens with a surprise bronze in the heptathlon. The 28-year-old won her first championship medal since becoming a full-time athlete in 2003.But it was a different story for Britain's defending champion Denise Lewis, who withdrew on day two of the competition after some poor results. Lewis, who was troubled by injury, has ruled out retiring while Sotherton is tipped to build on her success. The Athens Olympics proved to be a landmark occasion for Steve Backley, who retired from competition after finishing fourth in the javelin. The battling 35-year-old leaves the sport with a vast medal haul including two silvers and one Olympic bronze.And Backley's departure was balanced by the return of injury-hit decathlete Dean Macey, who came fourth in Athens.The continued improvement of sprinter Abi Oyepitan and long jumper Chris Tomlinson also boosted Team GB. Sadly, the 2004 Olympics did not escape the problems of drugs misuse. On the eve of the Games, Greek sprinters Kostas Kenteris and Katerina Thanou missed a drugs test and claimed to have been involved in a road crash.Kenteris, the 200m champion in 2000, and Thanou have since been charged by the Greek authorities and await trial. At the Games, Adrian Annus (hammer), Robert Fazelas (discus) and Irina Korzhanenko (shot) were all stripped of their titles because of doping issues. Hungarian compatriots Annus and Fazelas both refused to give urine samples while Russian Korzhanenko tested positive for the steroid stanozolol.The fallout from the THG scandal, which rocked the sport in 2003, continued to impact in Olympic year. Britain's 4x100m team took gold without the services of Dwain Chambers, who was handed a two-year ban in February after testing positive for steroid THG.American Kelli White was suspended and stripped of her world 100m and 200m titles after failing a drugs test. And world 400m champion Jerome Young landed a life ban from US chiefs after a second doping offence. Russian pole vaulter Yelena Isinbayeva provided some light relief by smashing the world record seven times on her way to the World Indoor and Olympic titles. Her rivalry with compatriot Svetlana Feofanova livened up the field events. Morocco's Hicham El Guerrouj also delighted fans by racing to a historic Olympic double in the 1500m and 5,000m.And though there was no Paula Radcliffe in the London Marathon, there was plenty of drama as Kenyans Evans Rutto and Margaret Okayo took the titles. Rutto held on to win despite slipping on some cobblestones and tumbling into a barrier. Okayo also had to battle back after mistiming her tactics but clinched victory on her debut.\n",
      "\n",
      "Summarized Text: \n",
      "\t  Holmes had started the year in disappointing style, falling over in the final of 1500m at the World Indoor Championships where she was favourite. Just five days later, the 34-year-old made it double gold in the 1500m. It was the first time in 84 years a Briton has achieved the Olympic middle-distance double. But Darren Campell, Jason Gardener, Marlon Devonish and Mark Lewis-Francis made amends in the sprint relay. Sadly, the 2004 Olympics did not escape the problems of drugs misuse.\n"
     ]
    }
   ],
   "source": [
    "# creating the word frequency table\n",
    "freq_table = frequency_table(data)\n",
    "\n",
    "# tokenizing the sentences\n",
    "'''Sentence tokenizer is already present, for creating the array of sentences, sent_tokenize() is used'''\n",
    "sents = sent_tokenize(data)\n",
    "\n",
    "# determining the score of each sentences\n",
    "sent_scores = sentence_score(sents, freq_table)\n",
    "\n",
    "#average sentence score is set as threshold, ..can try other too\n",
    "threshold = averages(sent_scores)\n",
    "\n",
    "# generating the summary\n",
    "# for shorter summary the threshold i use is 1 and 1/2 times the average\n",
    "summary = summary_generate(sents, sent_scores, 1.5*threshold)\n",
    "\n",
    "# printing the result\n",
    "print(\"Original Text: \\n\\t\", data)\n",
    "print(\"\\nSummarized Text: \\n\\t\", summary)"
   ]
  },
  {
   "cell_type": "code",
   "execution_count": null,
   "metadata": {},
   "outputs": [],
   "source": []
  },
  {
   "cell_type": "code",
   "execution_count": null,
   "metadata": {},
   "outputs": [],
   "source": []
  }
 ],
 "metadata": {
  "kernelspec": {
   "display_name": "Python 3",
   "language": "python",
   "name": "python3"
  },
  "language_info": {
   "codemirror_mode": {
    "name": "ipython",
    "version": 3
   },
   "file_extension": ".py",
   "mimetype": "text/x-python",
   "name": "python",
   "nbconvert_exporter": "python",
   "pygments_lexer": "ipython3",
   "version": "3.7.4"
  }
 },
 "nbformat": 4,
 "nbformat_minor": 4
}
